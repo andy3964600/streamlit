{
  "nbformat": 4,
  "nbformat_minor": 0,
  "metadata": {
    "colab": {
      "name": "LSTM for stock.ipynb",
      "provenance": [],
      "collapsed_sections": [],
      "authorship_tag": "ABX9TyPXVJxIWLGgzjI7K2E86Hfw",
      "include_colab_link": true
    },
    "kernelspec": {
      "name": "python3",
      "display_name": "Python 3"
    },
    "language_info": {
      "name": "python"
    }
  },
  "cells": [
    {
      "cell_type": "markdown",
      "metadata": {
        "id": "view-in-github",
        "colab_type": "text"
      },
      "source": [
        "<a href=\"https://colab.research.google.com/github/andy3964600/streamlit/blob/main/LSTM_for_stock.ipynb\" target=\"_parent\"><img src=\"https://colab.research.google.com/assets/colab-badge.svg\" alt=\"Open In Colab\"/></a>"
      ]
    },
    {
      "cell_type": "markdown",
      "metadata": {
        "id": "Hflnc7SiTWRt"
      },
      "source": [
        "# Use the artificial recurrent NN(LSTM) to prediction the stock closing price"
      ]
    },
    {
      "cell_type": "markdown",
      "metadata": {
        "id": "15KMlnvMU00c"
      },
      "source": [
        "Import the package"
      ]
    },
    {
      "cell_type": "code",
      "metadata": {
        "colab": {
          "base_uri": "https://localhost:8080/"
        },
        "id": "I6ZettsJieiI",
        "outputId": "68e5f5e0-67c7-4dea-85fe-36e76af42949"
      },
      "source": [
        "!pip install yfinance"
      ],
      "execution_count": 22,
      "outputs": [
        {
          "output_type": "stream",
          "name": "stdout",
          "text": [
            "Requirement already satisfied: yfinance in /usr/local/lib/python3.7/dist-packages (0.1.64)\n",
            "Requirement already satisfied: multitasking>=0.0.7 in /usr/local/lib/python3.7/dist-packages (from yfinance) (0.0.9)\n",
            "Requirement already satisfied: pandas>=0.24 in /usr/local/lib/python3.7/dist-packages (from yfinance) (1.1.5)\n",
            "Requirement already satisfied: requests>=2.20 in /usr/local/lib/python3.7/dist-packages (from yfinance) (2.23.0)\n",
            "Requirement already satisfied: numpy>=1.15 in /usr/local/lib/python3.7/dist-packages (from yfinance) (1.19.5)\n",
            "Requirement already satisfied: lxml>=4.5.1 in /usr/local/lib/python3.7/dist-packages (from yfinance) (4.6.4)\n",
            "Requirement already satisfied: python-dateutil>=2.7.3 in /usr/local/lib/python3.7/dist-packages (from pandas>=0.24->yfinance) (2.8.2)\n",
            "Requirement already satisfied: pytz>=2017.2 in /usr/local/lib/python3.7/dist-packages (from pandas>=0.24->yfinance) (2018.9)\n",
            "Requirement already satisfied: six>=1.5 in /usr/local/lib/python3.7/dist-packages (from python-dateutil>=2.7.3->pandas>=0.24->yfinance) (1.15.0)\n",
            "Requirement already satisfied: certifi>=2017.4.17 in /usr/local/lib/python3.7/dist-packages (from requests>=2.20->yfinance) (2021.10.8)\n",
            "Requirement already satisfied: urllib3!=1.25.0,!=1.25.1,<1.26,>=1.21.1 in /usr/local/lib/python3.7/dist-packages (from requests>=2.20->yfinance) (1.24.3)\n",
            "Requirement already satisfied: idna<3,>=2.5 in /usr/local/lib/python3.7/dist-packages (from requests>=2.20->yfinance) (2.10)\n",
            "Requirement already satisfied: chardet<4,>=3.0.2 in /usr/local/lib/python3.7/dist-packages (from requests>=2.20->yfinance) (3.0.4)\n"
          ]
        }
      ]
    },
    {
      "cell_type": "code",
      "metadata": {
        "id": "854q3K6wSFEj"
      },
      "source": [
        "import yfinance as yf\n",
        "import math\n",
        "import pandas as pd\n",
        "import numpy as np\n",
        "import keras\n",
        "from keras.models import Sequential\n",
        "from keras.layers import Dense,LSTM\n",
        "from sklearn.preprocessing import MinMaxScaler\n",
        "import matplotlib.pyplot as plt\n",
        "plt.style.use('seaborn')"
      ],
      "execution_count": 1,
      "outputs": []
    },
    {
      "cell_type": "markdown",
      "metadata": {
        "id": "Aehn4bFcimTW"
      },
      "source": [
        "Get the Stock price for 2376.TW (From 2016/01/01 to 2021/11/10 , you can input your stock"
      ]
    },
    {
      "cell_type": "code",
      "metadata": {
        "colab": {
          "base_uri": "https://localhost:8080/",
          "height": 450
        },
        "id": "KCaAGy1ti5jO",
        "outputId": "f318b24b-6e1f-452a-afe9-2318ecdaccc9"
      },
      "source": [
        "stock_ID = '2376.TW'\n",
        "tickerData = yf.Ticker(stock_ID)\n",
        "tickerDF = tickerData.history(period='1d', start='2016-01-01', end='2021-11-10')\n",
        "#Show the data\n",
        "tickerDF"
      ],
      "execution_count": 2,
      "outputs": [
        {
          "output_type": "execute_result",
          "data": {
            "text/html": [
              "<div>\n",
              "<style scoped>\n",
              "    .dataframe tbody tr th:only-of-type {\n",
              "        vertical-align: middle;\n",
              "    }\n",
              "\n",
              "    .dataframe tbody tr th {\n",
              "        vertical-align: top;\n",
              "    }\n",
              "\n",
              "    .dataframe thead th {\n",
              "        text-align: right;\n",
              "    }\n",
              "</style>\n",
              "<table border=\"1\" class=\"dataframe\">\n",
              "  <thead>\n",
              "    <tr style=\"text-align: right;\">\n",
              "      <th></th>\n",
              "      <th>Open</th>\n",
              "      <th>High</th>\n",
              "      <th>Low</th>\n",
              "      <th>Close</th>\n",
              "      <th>Volume</th>\n",
              "      <th>Dividends</th>\n",
              "      <th>Stock Splits</th>\n",
              "    </tr>\n",
              "    <tr>\n",
              "      <th>Date</th>\n",
              "      <th></th>\n",
              "      <th></th>\n",
              "      <th></th>\n",
              "      <th></th>\n",
              "      <th></th>\n",
              "      <th></th>\n",
              "      <th></th>\n",
              "    </tr>\n",
              "  </thead>\n",
              "  <tbody>\n",
              "    <tr>\n",
              "      <th>2016-01-04</th>\n",
              "      <td>26.868111</td>\n",
              "      <td>26.868111</td>\n",
              "      <td>26.241556</td>\n",
              "      <td>26.315269</td>\n",
              "      <td>1210000</td>\n",
              "      <td>0.0</td>\n",
              "      <td>0</td>\n",
              "    </tr>\n",
              "    <tr>\n",
              "      <th>2016-01-05</th>\n",
              "      <td>26.020423</td>\n",
              "      <td>27.199820</td>\n",
              "      <td>26.020423</td>\n",
              "      <td>26.904970</td>\n",
              "      <td>1956000</td>\n",
              "      <td>0.0</td>\n",
              "      <td>0</td>\n",
              "    </tr>\n",
              "    <tr>\n",
              "      <th>2016-01-06</th>\n",
              "      <td>26.573263</td>\n",
              "      <td>26.610119</td>\n",
              "      <td>24.251329</td>\n",
              "      <td>24.435610</td>\n",
              "      <td>4322000</td>\n",
              "      <td>0.0</td>\n",
              "      <td>0</td>\n",
              "    </tr>\n",
              "    <tr>\n",
              "      <th>2016-01-07</th>\n",
              "      <td>24.435609</td>\n",
              "      <td>25.135873</td>\n",
              "      <td>24.361895</td>\n",
              "      <td>24.988451</td>\n",
              "      <td>3473000</td>\n",
              "      <td>0.0</td>\n",
              "      <td>0</td>\n",
              "    </tr>\n",
              "    <tr>\n",
              "      <th>2016-01-08</th>\n",
              "      <td>24.988452</td>\n",
              "      <td>25.393869</td>\n",
              "      <td>24.656746</td>\n",
              "      <td>24.951593</td>\n",
              "      <td>868000</td>\n",
              "      <td>0.0</td>\n",
              "      <td>0</td>\n",
              "    </tr>\n",
              "    <tr>\n",
              "      <th>...</th>\n",
              "      <td>...</td>\n",
              "      <td>...</td>\n",
              "      <td>...</td>\n",
              "      <td>...</td>\n",
              "      <td>...</td>\n",
              "      <td>...</td>\n",
              "      <td>...</td>\n",
              "    </tr>\n",
              "    <tr>\n",
              "      <th>2021-11-03</th>\n",
              "      <td>121.500000</td>\n",
              "      <td>124.000000</td>\n",
              "      <td>117.000000</td>\n",
              "      <td>123.000000</td>\n",
              "      <td>37616773</td>\n",
              "      <td>0.0</td>\n",
              "      <td>0</td>\n",
              "    </tr>\n",
              "    <tr>\n",
              "      <th>2021-11-04</th>\n",
              "      <td>125.000000</td>\n",
              "      <td>125.500000</td>\n",
              "      <td>121.000000</td>\n",
              "      <td>121.000000</td>\n",
              "      <td>19004012</td>\n",
              "      <td>0.0</td>\n",
              "      <td>0</td>\n",
              "    </tr>\n",
              "    <tr>\n",
              "      <th>2021-11-05</th>\n",
              "      <td>125.000000</td>\n",
              "      <td>129.500000</td>\n",
              "      <td>122.500000</td>\n",
              "      <td>124.000000</td>\n",
              "      <td>43765222</td>\n",
              "      <td>0.0</td>\n",
              "      <td>0</td>\n",
              "    </tr>\n",
              "    <tr>\n",
              "      <th>2021-11-08</th>\n",
              "      <td>125.000000</td>\n",
              "      <td>135.000000</td>\n",
              "      <td>123.500000</td>\n",
              "      <td>133.500000</td>\n",
              "      <td>63493673</td>\n",
              "      <td>0.0</td>\n",
              "      <td>0</td>\n",
              "    </tr>\n",
              "    <tr>\n",
              "      <th>2021-11-09</th>\n",
              "      <td>138.500000</td>\n",
              "      <td>141.000000</td>\n",
              "      <td>133.000000</td>\n",
              "      <td>136.500000</td>\n",
              "      <td>59109859</td>\n",
              "      <td>0.0</td>\n",
              "      <td>0</td>\n",
              "    </tr>\n",
              "  </tbody>\n",
              "</table>\n",
              "<p>1424 rows × 7 columns</p>\n",
              "</div>"
            ],
            "text/plain": [
              "                  Open        High  ...  Dividends  Stock Splits\n",
              "Date                                ...                         \n",
              "2016-01-04   26.868111   26.868111  ...        0.0             0\n",
              "2016-01-05   26.020423   27.199820  ...        0.0             0\n",
              "2016-01-06   26.573263   26.610119  ...        0.0             0\n",
              "2016-01-07   24.435609   25.135873  ...        0.0             0\n",
              "2016-01-08   24.988452   25.393869  ...        0.0             0\n",
              "...                ...         ...  ...        ...           ...\n",
              "2021-11-03  121.500000  124.000000  ...        0.0             0\n",
              "2021-11-04  125.000000  125.500000  ...        0.0             0\n",
              "2021-11-05  125.000000  129.500000  ...        0.0             0\n",
              "2021-11-08  125.000000  135.000000  ...        0.0             0\n",
              "2021-11-09  138.500000  141.000000  ...        0.0             0\n",
              "\n",
              "[1424 rows x 7 columns]"
            ]
          },
          "metadata": {},
          "execution_count": 2
        }
      ]
    },
    {
      "cell_type": "markdown",
      "metadata": {
        "id": "0Xn2fdJImOxf"
      },
      "source": [
        "Plot the graph for close price and date"
      ]
    },
    {
      "cell_type": "code",
      "metadata": {
        "colab": {
          "base_uri": "https://localhost:8080/",
          "height": 602
        },
        "id": "e4HmdyqGmy4H",
        "outputId": "c421f213-1369-4f42-d30f-20efbe40519b"
      },
      "source": [
        "plt.figure(figsize=(20,10))\n",
        "plt.title('The Close graph')\n",
        "plt.plot(tickerDF['Close'])\n",
        "plt.xlabel('Date')\n",
        "plt.ylabel('Closing price')"
      ],
      "execution_count": 3,
      "outputs": [
        {
          "output_type": "execute_result",
          "data": {
            "text/plain": [
              "Text(0, 0.5, 'Closing price')"
            ]
          },
          "metadata": {},
          "execution_count": 3
        },
        {
          "output_type": "display_data",
          "data": {
            "image/png": "[encoded data removed]",
            "text/plain": [
              "<Figure size 1440x720 with 1 Axes>"
            ]
          },
          "metadata": {
            "needs_background": "light"
          }
        }
      ]
    },
    {
      "cell_type": "markdown",
      "metadata": {
        "id": "3mYxvGuVo6KP"
      },
      "source": [
        "DF for close price only"
      ]
    },
    {
      "cell_type": "code",
      "metadata": {
        "id": "IyN3RNxMpAN8"
      },
      "source": [
        "DF = tickerDF.filter(['Close'])\n",
        "DFset = DF.values"
      ],
      "execution_count": 4,
      "outputs": []
    },
    {
      "cell_type": "markdown",
      "metadata": {
        "id": "jszjyEzevHcK"
      },
      "source": [
        "Create the train/test dataset"
      ]
    },
    {
      "cell_type": "code",
      "metadata": {
        "colab": {
          "base_uri": "https://localhost:8080/"
        },
        "id": "eFOXpKhopTfI",
        "outputId": "41262ef3-3efb-454b-8442-ed475e0e0aa7"
      },
      "source": [
        "train_set_len = math.ceil(len(DFset)* 0.75)\n",
        "train_set_len"
      ],
      "execution_count": 6,
      "outputs": [
        {
          "output_type": "execute_result",
          "data": {
            "text/plain": [
              "1068"
            ]
          },
          "metadata": {},
          "execution_count": 6
        }
      ]
    },
    {
      "cell_type": "code",
      "metadata": {
        "colab": {
          "base_uri": "https://localhost:8080/"
        },
        "id": "f0XJDSu_vpFi",
        "outputId": "f20974a1-266b-414e-e762-ebdb2fb89c8f"
      },
      "source": [
        "Normalize_scalar = MinMaxScaler(feature_range=(0.0,1.0))\n",
        "df1 = Normalize_scalar.fit_transform(np.array(DFset).reshape(-1, 1))\n",
        "df1.shape"
      ],
      "execution_count": 5,
      "outputs": [
        {
          "output_type": "execute_result",
          "data": {
            "text/plain": [
              "(1424, 1)"
            ]
          },
          "metadata": {},
          "execution_count": 5
        }
      ]
    },
    {
      "cell_type": "code",
      "metadata": {
        "colab": {
          "base_uri": "https://localhost:8080/"
        },
        "id": "4TmEGaeJyYpc",
        "outputId": "a5940d53-78a8-46e3-8eb5-84f5b35579cd"
      },
      "source": [
        "train_data, test_data = df1[0:train_set_len, :], df1[train_set_len:len(df1), :1]\n",
        "\n",
        "print(train_data.shape)\n",
        "print(len(train_data))\n",
        "print(test_data.shape)\n",
        "print(len(test_data))"
      ],
      "execution_count": 7,
      "outputs": [
        {
          "output_type": "stream",
          "name": "stdout",
          "text": [
            "(1068, 1)\n",
            "1068\n",
            "(356, 1)\n",
            "356\n"
          ]
        }
      ]
    },
    {
      "cell_type": "markdown",
      "metadata": {
        "id": "1oQvERJqzrnY"
      },
      "source": [
        "Split the data into x_train ,y_train and x_test, y_test"
      ]
    },
    {
      "cell_type": "code",
      "metadata": {
        "id": "cjy-q3nazmlY"
      },
      "source": [
        "x_train = []\n",
        "y_train = []\n",
        "\n",
        "for i in range(20, len(train_data)):\n",
        "  x_train.append(train_data[i-20:i, 0])\n",
        "  y_train.append(train_data[i, 0])\n",
        "  "
      ],
      "execution_count": 16,
      "outputs": []
    },
    {
      "cell_type": "code",
      "metadata": {
        "colab": {
          "base_uri": "https://localhost:8080/"
        },
        "id": "R7kDVyd34iFo",
        "outputId": "77093795-f71e-4f14-df1a-03223a35accc"
      },
      "source": [
        "x_train, y_train = np.array(x_train), np.array(y_train)\n",
        "\n",
        "\n",
        "x_train = np.reshape(x_train, (x_train.shape[0],x_train.shape[1], 1))\n",
        "print(x_train.shape)\n",
        "print(y_train.shape)"
      ],
      "execution_count": 27,
      "outputs": [
        {
          "output_type": "stream",
          "name": "stdout",
          "text": [
            "(1048, 20, 1)\n",
            "(1048,)\n"
          ]
        }
      ]
    },
    {
      "cell_type": "code",
      "metadata": {
        "id": "ATAxb9SF-XUq"
      },
      "source": [
        "x_test = []\n",
        "y_test = []\n",
        "\n",
        "for i in range(20, len(test_data)):\n",
        "  x_test.append(test_data[i-20:i,0])\n",
        "  y_test.append(test_data[i, 0])"
      ],
      "execution_count": 17,
      "outputs": []
    },
    {
      "cell_type": "code",
      "metadata": {
        "colab": {
          "base_uri": "https://localhost:8080/"
        },
        "id": "MaJPWk-P-YsC",
        "outputId": "069fb5c5-3448-413c-a7ce-d6c5838f5f80"
      },
      "source": [
        "x_test, y_test = np.array(x_test),  np.array(y_test)\n",
        "\n",
        "\n",
        "x_test = np.reshape(x_test, (x_test.shape[0],x_test.shape[1], 1))\n",
        "print(x_test.shape)\n",
        "print(y_test.shape)"
      ],
      "execution_count": 20,
      "outputs": [
        {
          "output_type": "stream",
          "name": "stdout",
          "text": [
            "(336, 20, 1)\n",
            "(336,)\n"
          ]
        }
      ]
    },
    {
      "cell_type": "markdown",
      "metadata": {
        "id": "1947af8B5bjd"
      },
      "source": [
        "Build the LSTM model"
      ]
    },
    {
      "cell_type": "code",
      "metadata": {
        "colab": {
          "base_uri": "https://localhost:8080/"
        },
        "id": "CZGTvInc5qCE",
        "outputId": "8784e196-2562-48cd-975f-bf0063845417"
      },
      "source": [
        "model = Sequential()\n",
        "model.add(LSTM(50, return_sequences=True, input_shape=(x_train.shape[1], 1)))\n",
        "model.add(LSTM(50, return_sequences=True))\n",
        "model.add(LSTM(50))\n",
        "model.add(Dense(25))\n",
        "model.add(Dense(1))\n",
        "model.compile(loss='mean_squared_error', optimizer='adam')\n",
        "model.summary()"
      ],
      "execution_count": 28,
      "outputs": [
        {
          "output_type": "stream",
          "name": "stdout",
          "text": [
            "Model: \"sequential_2\"\n",
            "_________________________________________________________________\n",
            " Layer (type)                Output Shape              Param #   \n",
            "=================================================================\n",
            " lstm (LSTM)                 (None, 20, 50)            10400     \n",
            "                                                                 \n",
            " lstm_1 (LSTM)               (None, 20, 50)            20200     \n",
            "                                                                 \n",
            " lstm_2 (LSTM)               (None, 50)                20200     \n",
            "                                                                 \n",
            " dense (Dense)               (None, 25)                1275      \n",
            "                                                                 \n",
            " dense_1 (Dense)             (None, 1)                 26        \n",
            "                                                                 \n",
            "=================================================================\n",
            "Total params: 52,101\n",
            "Trainable params: 52,101\n",
            "Non-trainable params: 0\n",
            "_________________________________________________________________\n"
          ]
        }
      ]
    },
    {
      "cell_type": "markdown",
      "metadata": {
        "id": "hP1978uS6Y0M"
      },
      "source": [
        "Train Model"
      ]
    },
    {
      "cell_type": "code",
      "metadata": {
        "colab": {
          "base_uri": "https://localhost:8080/"
        },
        "id": "fZ8OU3kV6bPc",
        "outputId": "6469a1e8-712e-4ed8-8357-c33f3e1dc243"
      },
      "source": [
        "model.fit(x_train, y_train, batch_size=64,epochs=80,verbose=1)"
      ],
      "execution_count": 29,
      "outputs": [
        {
          "output_type": "stream",
          "name": "stdout",
          "text": [
            "Epoch 1/80\n",
            "17/17 [==============================] - 6s 42ms/step - loss: 0.0071\n",
            "Epoch 2/80\n",
            "17/17 [==============================] - 1s 48ms/step - loss: 0.0015\n",
            "Epoch 3/80\n",
            "17/17 [==============================] - 1s 46ms/step - loss: 8.3755e-04\n",
            "Epoch 4/80\n",
            "17/17 [==============================] - 1s 46ms/step - loss: 6.9503e-04\n",
            "Epoch 5/80\n",
            "17/17 [==============================] - 1s 46ms/step - loss: 6.4981e-04\n",
            "Epoch 6/80\n",
            "17/17 [==============================] - 1s 40ms/step - loss: 6.4060e-04\n",
            "Epoch 7/80\n",
            "17/17 [==============================] - 1s 40ms/step - loss: 6.0641e-04\n",
            "Epoch 8/80\n",
            "17/17 [==============================] - 1s 41ms/step - loss: 6.5758e-04\n",
            "Epoch 9/80\n",
            "17/17 [==============================] - 1s 44ms/step - loss: 6.0726e-04\n",
            "Epoch 10/80\n",
            "17/17 [==============================] - 1s 40ms/step - loss: 5.5272e-04\n",
            "Epoch 11/80\n",
            "17/17 [==============================] - 1s 40ms/step - loss: 5.4981e-04\n",
            "Epoch 12/80\n",
            "17/17 [==============================] - 1s 39ms/step - loss: 4.8480e-04\n",
            "Epoch 13/80\n",
            "17/17 [==============================] - 1s 41ms/step - loss: 4.7376e-04\n",
            "Epoch 14/80\n",
            "17/17 [==============================] - 1s 40ms/step - loss: 4.5120e-04\n",
            "Epoch 15/80\n",
            "17/17 [==============================] - 1s 40ms/step - loss: 4.1017e-04\n",
            "Epoch 16/80\n",
            "17/17 [==============================] - 1s 41ms/step - loss: 3.8699e-04\n",
            "Epoch 17/80\n",
            "17/17 [==============================] - 1s 41ms/step - loss: 4.3864e-04\n",
            "Epoch 18/80\n",
            "17/17 [==============================] - 1s 39ms/step - loss: 3.8418e-04\n",
            "Epoch 19/80\n",
            "17/17 [==============================] - 1s 42ms/step - loss: 3.6542e-04\n",
            "Epoch 20/80\n",
            "17/17 [==============================] - 1s 41ms/step - loss: 3.5301e-04\n",
            "Epoch 21/80\n",
            "17/17 [==============================] - 1s 39ms/step - loss: 3.5758e-04\n",
            "Epoch 22/80\n",
            "17/17 [==============================] - 1s 40ms/step - loss: 4.5993e-04\n",
            "Epoch 23/80\n",
            "17/17 [==============================] - 1s 40ms/step - loss: 5.5286e-04\n",
            "Epoch 24/80\n",
            "17/17 [==============================] - 1s 39ms/step - loss: 3.4254e-04\n",
            "Epoch 25/80\n",
            "17/17 [==============================] - 1s 40ms/step - loss: 3.0282e-04\n",
            "Epoch 26/80\n",
            "17/17 [==============================] - 1s 40ms/step - loss: 3.4191e-04\n",
            "Epoch 27/80\n",
            "17/17 [==============================] - 1s 39ms/step - loss: 2.9947e-04\n",
            "Epoch 28/80\n",
            "17/17 [==============================] - 1s 41ms/step - loss: 2.8752e-04\n",
            "Epoch 29/80\n",
            "17/17 [==============================] - 1s 43ms/step - loss: 2.7315e-04\n",
            "Epoch 30/80\n",
            "17/17 [==============================] - 1s 44ms/step - loss: 2.9241e-04\n",
            "Epoch 31/80\n",
            "17/17 [==============================] - 1s 39ms/step - loss: 2.5689e-04\n",
            "Epoch 32/80\n",
            "17/17 [==============================] - 1s 40ms/step - loss: 2.4235e-04\n",
            "Epoch 33/80\n",
            "17/17 [==============================] - 1s 40ms/step - loss: 2.3991e-04\n",
            "Epoch 34/80\n",
            "17/17 [==============================] - 1s 39ms/step - loss: 2.4441e-04\n",
            "Epoch 35/80\n",
            "17/17 [==============================] - 1s 41ms/step - loss: 2.4336e-04\n",
            "Epoch 36/80\n",
            "17/17 [==============================] - 1s 40ms/step - loss: 2.2371e-04\n",
            "Epoch 37/80\n",
            "17/17 [==============================] - 1s 46ms/step - loss: 2.2441e-04\n",
            "Epoch 38/80\n",
            "17/17 [==============================] - 1s 40ms/step - loss: 2.2154e-04\n",
            "Epoch 39/80\n",
            "17/17 [==============================] - 1s 40ms/step - loss: 2.1064e-04\n",
            "Epoch 40/80\n",
            "17/17 [==============================] - 1s 39ms/step - loss: 2.0897e-04\n",
            "Epoch 41/80\n",
            "17/17 [==============================] - 1s 39ms/step - loss: 2.0197e-04\n",
            "Epoch 42/80\n",
            "17/17 [==============================] - 1s 39ms/step - loss: 2.0387e-04\n",
            "Epoch 43/80\n",
            "17/17 [==============================] - 1s 41ms/step - loss: 1.9147e-04\n",
            "Epoch 44/80\n",
            "17/17 [==============================] - 1s 45ms/step - loss: 1.8991e-04\n",
            "Epoch 45/80\n",
            "17/17 [==============================] - 1s 44ms/step - loss: 1.9154e-04\n",
            "Epoch 46/80\n",
            "17/17 [==============================] - 1s 40ms/step - loss: 1.8802e-04\n",
            "Epoch 47/80\n",
            "17/17 [==============================] - 1s 41ms/step - loss: 1.8331e-04\n",
            "Epoch 48/80\n",
            "17/17 [==============================] - 1s 40ms/step - loss: 1.7032e-04\n",
            "Epoch 49/80\n",
            "17/17 [==============================] - 1s 40ms/step - loss: 1.8525e-04\n",
            "Epoch 50/80\n",
            "17/17 [==============================] - 1s 39ms/step - loss: 1.7927e-04\n",
            "Epoch 51/80\n",
            "17/17 [==============================] - 1s 39ms/step - loss: 1.8722e-04\n",
            "Epoch 52/80\n",
            "17/17 [==============================] - 1s 39ms/step - loss: 1.7448e-04\n",
            "Epoch 53/80\n",
            "17/17 [==============================] - 1s 41ms/step - loss: 1.5407e-04\n",
            "Epoch 54/80\n",
            "17/17 [==============================] - 1s 40ms/step - loss: 1.4958e-04\n",
            "Epoch 55/80\n",
            "17/17 [==============================] - 1s 39ms/step - loss: 1.6328e-04\n",
            "Epoch 56/80\n",
            "17/17 [==============================] - 1s 40ms/step - loss: 1.5271e-04\n",
            "Epoch 57/80\n",
            "17/17 [==============================] - 1s 43ms/step - loss: 1.4965e-04\n",
            "Epoch 58/80\n",
            "17/17 [==============================] - 1s 46ms/step - loss: 1.4516e-04\n",
            "Epoch 59/80\n",
            "17/17 [==============================] - 1s 39ms/step - loss: 1.3597e-04\n",
            "Epoch 60/80\n",
            "17/17 [==============================] - 1s 40ms/step - loss: 1.3190e-04\n",
            "Epoch 61/80\n",
            "17/17 [==============================] - 1s 40ms/step - loss: 1.3563e-04\n",
            "Epoch 62/80\n",
            "17/17 [==============================] - 1s 42ms/step - loss: 1.3586e-04\n",
            "Epoch 63/80\n",
            "17/17 [==============================] - 1s 40ms/step - loss: 1.4817e-04\n",
            "Epoch 64/80\n",
            "17/17 [==============================] - 1s 40ms/step - loss: 1.4667e-04\n",
            "Epoch 65/80\n",
            "17/17 [==============================] - 1s 39ms/step - loss: 1.3539e-04\n",
            "Epoch 66/80\n",
            "17/17 [==============================] - 1s 40ms/step - loss: 1.4639e-04\n",
            "Epoch 67/80\n",
            "17/17 [==============================] - 1s 40ms/step - loss: 1.3042e-04\n",
            "Epoch 68/80\n",
            "17/17 [==============================] - 1s 40ms/step - loss: 1.2584e-04\n",
            "Epoch 69/80\n",
            "17/17 [==============================] - 1s 40ms/step - loss: 1.3033e-04\n",
            "Epoch 70/80\n",
            "17/17 [==============================] - 1s 42ms/step - loss: 1.2236e-04\n",
            "Epoch 71/80\n",
            "17/17 [==============================] - 1s 46ms/step - loss: 1.1757e-04\n",
            "Epoch 72/80\n",
            "17/17 [==============================] - 1s 40ms/step - loss: 1.1920e-04\n",
            "Epoch 73/80\n",
            "17/17 [==============================] - 1s 45ms/step - loss: 1.0992e-04\n",
            "Epoch 74/80\n",
            "17/17 [==============================] - 1s 44ms/step - loss: 1.0844e-04\n",
            "Epoch 75/80\n",
            "17/17 [==============================] - 1s 39ms/step - loss: 1.1536e-04\n",
            "Epoch 76/80\n",
            "17/17 [==============================] - 1s 41ms/step - loss: 1.1419e-04\n",
            "Epoch 77/80\n",
            "17/17 [==============================] - 1s 42ms/step - loss: 1.0323e-04\n",
            "Epoch 78/80\n",
            "17/17 [==============================] - 1s 39ms/step - loss: 1.1498e-04\n",
            "Epoch 79/80\n",
            "17/17 [==============================] - 1s 40ms/step - loss: 1.1123e-04\n",
            "Epoch 80/80\n",
            "17/17 [==============================] - 1s 39ms/step - loss: 1.3166e-04\n"
          ]
        },
        {
          "output_type": "execute_result",
          "data": {
            "text/plain": [
              "<keras.callbacks.History at 0x7f58989f5e90>"
            ]
          },
          "metadata": {},
          "execution_count": 29
        }
      ]
    },
    {
      "cell_type": "markdown",
      "metadata": {
        "id": "WKEiq4dm_14D"
      },
      "source": [
        "Get the models prdicted price values"
      ]
    },
    {
      "cell_type": "code",
      "metadata": {
        "id": "wOrL2ZT2_6v6"
      },
      "source": [
        "pred = model.predict(x_test)\n",
        "pred = Normalize_scalar.inverse_transform(pred)"
      ],
      "execution_count": 30,
      "outputs": []
    },
    {
      "cell_type": "markdown",
      "metadata": {
        "id": "63hzmlMqATgZ"
      },
      "source": [
        "畫圖(plot)"
      ]
    },
    {
      "cell_type": "code",
      "metadata": {
        "colab": {
          "base_uri": "https://localhost:8080/",
          "height": 614
        },
        "id": "n9qIykGuAaG5",
        "outputId": "b06dca55-6250-45c5-c9e2-bcd09e6227d9"
      },
      "source": [
        "train = DF[ : train_set_len+20]\n",
        "Val = DF[train_set_len+20: ]\n",
        "Val['Predictions'] = pred\n",
        "\n",
        "#Visualize the data\n",
        "plt.figure(figsize=(16,8))\n",
        "plt.title('Model')\n",
        "plt.xlabel('Date')\n",
        "plt.ylabel('Close Price TWD ($)')\n",
        "plt.plot(train['Close'])\n",
        "plt.plot(Val[['Close','Predictions']])\n",
        "plt.legend(['Train','Val','Predictions'],loc='upper left')\n",
        "plt.show()"
      ],
      "execution_count": 42,
      "outputs": [
        {
          "output_type": "stream",
          "name": "stderr",
          "text": [
            "/usr/local/lib/python3.7/dist-packages/ipykernel_launcher.py:3: SettingWithCopyWarning: \n",
            "A value is trying to be set on a copy of a slice from a DataFrame.\n",
            "Try using .loc[row_indexer,col_indexer] = value instead\n",
            "\n",
            "See the caveats in the documentation: https://pandas.pydata.org/pandas-docs/stable/user_guide/indexing.html#returning-a-view-versus-a-copy\n",
            "  This is separate from the ipykernel package so we can avoid doing imports until\n"
          ]
        },
        {
          "output_type": "display_data",
          "data": {
            "image/png": "[encoded data removed]",
            "text/plain": [
              "<Figure size 1152x576 with 1 Axes>"
            ]
          },
          "metadata": {
            "needs_background": "light"
          }
        }
      ]
    },
    {
      "cell_type": "code",
      "metadata": {
        "colab": {
          "base_uri": "https://localhost:8080/",
          "height": 450
        },
        "id": "EW8AEN_EH1Wi",
        "outputId": "672c4296-1e06-4c69-c278-b6f50ac6bea8"
      },
      "source": [
        "Val"
      ],
      "execution_count": 44,
      "outputs": [
        {
          "output_type": "execute_result",
          "data": {
            "text/html": [
              "<div>\n",
              "<style scoped>\n",
              "    .dataframe tbody tr th:only-of-type {\n",
              "        vertical-align: middle;\n",
              "    }\n",
              "\n",
              "    .dataframe tbody tr th {\n",
              "        vertical-align: top;\n",
              "    }\n",
              "\n",
              "    .dataframe thead th {\n",
              "        text-align: right;\n",
              "    }\n",
              "</style>\n",
              "<table border=\"1\" class=\"dataframe\">\n",
              "  <thead>\n",
              "    <tr style=\"text-align: right;\">\n",
              "      <th></th>\n",
              "      <th>Close</th>\n",
              "      <th>Predictions</th>\n",
              "    </tr>\n",
              "    <tr>\n",
              "      <th>Date</th>\n",
              "      <th></th>\n",
              "      <th></th>\n",
              "    </tr>\n",
              "  </thead>\n",
              "  <tbody>\n",
              "    <tr>\n",
              "      <th>2020-06-30</th>\n",
              "      <td>60.733059</td>\n",
              "      <td>62.386276</td>\n",
              "    </tr>\n",
              "    <tr>\n",
              "      <th>2020-07-01</th>\n",
              "      <td>63.143837</td>\n",
              "      <td>61.930317</td>\n",
              "    </tr>\n",
              "    <tr>\n",
              "      <th>2020-07-02</th>\n",
              "      <td>64.256508</td>\n",
              "      <td>63.626289</td>\n",
              "    </tr>\n",
              "    <tr>\n",
              "      <th>2020-07-03</th>\n",
              "      <td>65.183731</td>\n",
              "      <td>65.592560</td>\n",
              "    </tr>\n",
              "    <tr>\n",
              "      <th>2020-07-06</th>\n",
              "      <td>66.481834</td>\n",
              "      <td>66.824516</td>\n",
              "    </tr>\n",
              "    <tr>\n",
              "      <th>...</th>\n",
              "      <td>...</td>\n",
              "      <td>...</td>\n",
              "    </tr>\n",
              "    <tr>\n",
              "      <th>2021-11-03</th>\n",
              "      <td>123.000000</td>\n",
              "      <td>117.383247</td>\n",
              "    </tr>\n",
              "    <tr>\n",
              "      <th>2021-11-04</th>\n",
              "      <td>121.000000</td>\n",
              "      <td>120.398598</td>\n",
              "    </tr>\n",
              "    <tr>\n",
              "      <th>2021-11-05</th>\n",
              "      <td>124.000000</td>\n",
              "      <td>117.999596</td>\n",
              "    </tr>\n",
              "    <tr>\n",
              "      <th>2021-11-08</th>\n",
              "      <td>133.500000</td>\n",
              "      <td>121.715614</td>\n",
              "    </tr>\n",
              "    <tr>\n",
              "      <th>2021-11-09</th>\n",
              "      <td>136.500000</td>\n",
              "      <td>135.486603</td>\n",
              "    </tr>\n",
              "  </tbody>\n",
              "</table>\n",
              "<p>336 rows × 2 columns</p>\n",
              "</div>"
            ],
            "text/plain": [
              "                 Close  Predictions\n",
              "Date                               \n",
              "2020-06-30   60.733059    62.386276\n",
              "2020-07-01   63.143837    61.930317\n",
              "2020-07-02   64.256508    63.626289\n",
              "2020-07-03   65.183731    65.592560\n",
              "2020-07-06   66.481834    66.824516\n",
              "...                ...          ...\n",
              "2021-11-03  123.000000   117.383247\n",
              "2021-11-04  121.000000   120.398598\n",
              "2021-11-05  124.000000   117.999596\n",
              "2021-11-08  133.500000   121.715614\n",
              "2021-11-09  136.500000   135.486603\n",
              "\n",
              "[336 rows x 2 columns]"
            ]
          },
          "metadata": {},
          "execution_count": 44
        }
      ]
    },
    {
      "cell_type": "markdown",
      "metadata": {
        "id": "6HADrZUuS0C1"
      },
      "source": [
        "Get the quote"
      ]
    },
    {
      "cell_type": "code",
      "metadata": {
        "colab": {
          "base_uri": "https://localhost:8080/"
        },
        "id": "a8prhTQ3Sznk",
        "outputId": "26fa610a-d256-4d02-9165-dc9dcff8fe95"
      },
      "source": [
        "stock_ID = '2376.TW'\n",
        "GIGAData = yf.Ticker(stock_ID)\n",
        "GIGA_DAY = tickerData.history(period='1d', start='2021-11-10', end='2021-11-12')\n",
        "print(GIGA_DAY['Close'])"
      ],
      "execution_count": 71,
      "outputs": [
        {
          "output_type": "stream",
          "name": "stdout",
          "text": [
            "Date\n",
            "2021-11-10    139.0\n",
            "2021-11-11    137.0\n",
            "Name: Close, dtype: float64\n"
          ]
        }
      ]
    },
    {
      "cell_type": "code",
      "metadata": {
        "colab": {
          "base_uri": "https://localhost:8080/"
        },
        "id": "OJTalveJTryT",
        "outputId": "b12a8f60-7c7e-41a6-f6d1-24dc379f99a8"
      },
      "source": [
        "stock_ID = '2376.TW'\n",
        "GIGAData = yf.Ticker(stock_ID)\n",
        "GIGA_DAY_2 = tickerData.history(period='1d', start='2019-01-10', end='2021-11-11')\n",
        "#Create the new DF\n",
        "new_df = GIGA_DAY_2.filter(['Close'])\n",
        "#Get last 60 day's closing price\n",
        "last_month = new_df[-60:].values\n",
        "last_month_scaled = Normalize_scalar.transform(last_month)\n",
        "x_test = []\n",
        "x_test.append(last_month_scaled)\n",
        "x_test = np.array(x_test)\n",
        "x_test = np.reshape(x_test, (x_test.shape[0], x_test.shape[1], 1))\n",
        "#prediciton\n",
        "pred_price = model.predict(x_test)\n",
        "pred_price = Normalize_scalar.inverse_transform(pred_price)\n",
        "print('The prediction of Close price on next day= %s' % pred_price)"
      ],
      "execution_count": 70,
      "outputs": [
        {
          "output_type": "stream",
          "name": "stdout",
          "text": [
            "The prediction of Close price on next day= [[134.16689]]\n"
          ]
        }
      ]
    },
    {
      "cell_type": "code",
      "metadata": {
        "id": "ZkwagmwgWGzD"
      },
      "source": [
        ""
      ],
      "execution_count": null,
      "outputs": []
    }
  ]
}